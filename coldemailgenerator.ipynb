{
 "cells": [
  {
   "cell_type": "code",
   "execution_count": 1,
   "id": "a60b3d84-2eaf-4d57-aa0e-d060fa8d3ff6",
   "metadata": {},
   "outputs": [
    {
     "name": "stdout",
     "output_type": "stream",
     "text": [
      "Neil Armstrong was the first person to land on the moon.  He stepped out of the lunar module Eagle and onto the moon's surface on July 20, 1969, during the Apollo 11 mission.\n"
     ]
    }
   ],
   "source": [
    "from langchain_groq import ChatGroq\n",
    "\n",
    "llm = ChatGroq(\n",
    "    temperature=0,\n",
    "    model_name=\"llama-3.1-70b-versatile\",\n",
    "    groq_api_key=\"your api key here\"\n",
    ")\n",
    "response=llm.invoke(\"Who landed on moon first?\")\n",
    "print(response.content)"
   ]
  },
  {
   "cell_type": "code",
   "execution_count": 2,
   "id": "75cb5198-41e1-4b6b-ae4c-912125650b2a",
   "metadata": {},
   "outputs": [
    {
     "name": "stderr",
     "output_type": "stream",
     "text": [
      "USER_AGENT environment variable not set, consider setting it to identify your requests.\n"
     ]
    },
    {
     "name": "stdout",
     "output_type": "stream",
     "text": [
      "Apply for Senior Solutions Data Engineer, GPS\n",
      "\n",
      "Search JobsSkip navigationSearch JobsNIKE, INC. JOBSContract JobsJoin The Talent CommunityLife @ NikeOverviewBenefitsBrandsOverviewJordanConverseTeamsOverviewAdministrative SupportAdvanced InnovationAir Manufacturing InnovationAviationCommunicationsCustomer ServiceDesignDigitalFacilitiesFinance & AccountingGovernment & Public AffairsHuman ResourcesInsights & AnalyticsLegalManufacturing & EngineeringMarketingMerchandisingPlanningPrivacyProcurementProduct Creation, Development & ManagementRetail CorporateRetail StoresSalesSocial & Community ImpactSports MarketingStrategic PlanningSupply Chain, Distribution & LogisticsSustainabilityTechnologyLocationsOverviewNike WHQNike New York HQEHQ: Hilversum, The NetherlandsELC: Laakdal, BelgiumGreater China HQDiversity, Equity & InclusionOverviewMilitary InclusionDisability InclusionIndigenous InclusionInternshipsTechnologySenior Solutions Data Engineer, GPSBeaverton, OregonBecome a Part of the NIKE, Inc. TeamNIKE, Inc. does more than outfit the world’s best athletes. It is a place to explore potential, obliterate boundaries and push out the edges of what can be. The company looks for people who can grow, think, dream and create. Its culture thrives by embracing diversity and rewarding imagination. The brand seeks achievers, leaders and visionaries. At NIKE, Inc. it’s about each person bringing skills and passion to a challenging and constantly evolving game.NIKE is a technology company. From our flagship website and five-star mobile apps to developing products, managing big data and providing leading edge engineering and systems support, our teams at NIKE Global Technology exist to revolutionize the future at the confluence of tech and sport. We invest and develop advances in technology and employ the most creative people in the world, and then give them the support to constantly innovate, iterate and serve consumers more directly and personally.  Our teams are innovative, diverse, multidisciplinary and collaborative, taking technology into the future and bringing the world with it.At Nike’s Global Places & Services (GPS) organization, we design and bring to life physical environments and experiences for Nike and the athlete* in more than 100 cities around the world. We work every day to make location a competitive advantage by delivering against our key GPS capabilities: location, physical environments, events, sport, nutrition and mobility.WHO YOU’LL WORK WITHThe GPS Solutions team is part of the larger GPS Intelligence team (GPSi). GPSi leverages systems, research, analytics and key partnerships across Nike and industries to drive operations and optimization of the real estate portfolio as well as efficiency and effectiveness across our services delivery. Being part of GPSI enables this role to sit with teammates that are process and transactional technology subject matter experts along with analysts, data scientists and researchers that will utilize the solutions this role will deliver. WHO WE ARE LOOKING FORWe’re looking for a Senior Solutions Data Engineer to join the GPS Solutions team to drive and deploy governed technology solutions to empower GPS Capabilities. These solutions will focus on the design, development and management of data products and data sets.We are looking for a senior level professional with a strong analysis and engineering background to design, develop and deliver data product solutions to enable consumption of location-based, governed data to GPS and the Nike Enterprise. You are an independent thinker that can bridge the gap between users of data and your fellow technology delivery teammates, essentially being able to speak two languages.You seek opportunities to improve or define engineering delivery processes and have the adaptability to flex into different software development lifecycles (SDLCs).  You are passionate about data solutions, specifically on concepts regarding data/lake houses, data lakes, big data, and data visualization. You seek to learn about industry practices and concepts and how to bring those back to your work in constructive and effective ways. Knowing that you will be growing into a GPS data product subject matter expert, you are comfortable working across varied functional teams to understand data needs, clarify use of said data needs, and delivering data product solutions to meet said needs. You are an individual that values attention to detail and depth of knowledge in your space, working to master tactical ‘hands-on’ engineering development delivery while wanting to learn and develop skills for solution management.You appreciate the complexities associated with processes and systems that feed into your data products and work to provide feedback on those processes and systems to contribute to the overall governance models of GPS data.  In this role you will be responsible for technical engineering delivery of location related data that will drive meaningful and actionable insights tied to optimizing NIKE’s global physical real estate portfolio.You have strong communication skills, able to lead meetings and clarify ambiguous situations. You are comfortable providing guidance to teammates, teaching others, and being part of engineering squads comprised of both fellow Nike team members as well as vendor partners. You understand and appreciate the importance of creating connections and networks across partner Nike functions, such as Nike Technology, to ensure consistent and optimized design, development and coding practices. Skillsets/Experience you bring:Bachelor’s degree or equivalent combination of education, experience or training5+ years of experience working as an application engineer focused on data product engineering (including experience with analytics technologies such as Snowflake and Databricks and cloud technologies such as AWS, Azure, GCP).Strong knowledge of programming languages such as SQL, Java, Python, PySpark.Strong data profiling, analysis and data modeling skills.Solid understanding of modern data product solution and platform architecture, including egress/ingress methodologies and data product consumption patterns.Proficient in DevOps practices, including continuous integration / continuous delivery, automated testing, security administration, and batch orchestration to ensure streamlined and efficient data product development, deployment and serviceability processes.Proficient in Agile methodologies and best practices, including Scrum and Kanban.Strong project management acumen, with the ability to effectively plan, execute, monitor, and control engineering delivery in a structured manner.Excellent communication and interpersonal skills, with a wanting to mentor, coordinate, and guide teams while collaborating with both business and technical audiences.Ability to breakdown technical concepts to simplified ‘business speak’ for different audiences.Comfortable working in a fast-paced, highly matrixed organizational environment, with globally distributed and diverse teams, excelling in team-oriented roles that rely on the ability to collaborate with others.Self-directed, comfortable working in ambiguous environments, and capable of building positive relationships across product management, architecture, and engineering teams while influencing decisions and changes across loosely coupled teams.WHAT YOU’LL WORK ONIf this is you, you’ll be working with the teammates across GPS (and Nike) to propel analytics through robust data comprehension, solution requirements, source to target system mappings, data modeling and solution design, development and delivery.Working within an engineering squad(s), you will be responsible for taking requirements and delivering solutions, focused on a Databricks platform. Solution delivery will be comprised of gathering requirements (at times partnering with a business systems analyst), understanding and contributing to platform and solution architecture (think system ecosystem landscape) and data modeling, as well as owning and delivering data source development (extract), ingress (transform), and object development and loading (load). You will focus on standardizing patterns when possible and will be a part of both project and production support work. You will be a conduit to our Nike Technology teammates, networking with appropriate teams to understand best practices and schools of thought.In this role, you will build data product solutions that will be used globally and will interact with global teammates, learning how to translate business needs to technology features.  While your primary partners and stakeholders will be on global based teams, there will be times when interaction with regional teammates will be required.  You will collaborate with Nike business partners in Technology, Security, HR and Legal to support the creation and maintenance of GPS data products. This role reports to the Director of GPS Solutions and is a member of the broader GPSi team within GPS Global Operations.NIKE, Inc. is a growth company that looks for team members to grow with it. Nike offers a generous total rewards package, casual work environment, a diverse and inclusive culture, and an electric atmosphere for professional development. No matter the location, or the role, every Nike employee shares one galvanizing mission: To bring inspiration and innovation to every athlete* in the world.NIKE, Inc. is committed to employing a diverse workforce. Qualified applicants will receive consideration without regard to race, color, religion, sex, national origin, age, sexual orientation, gender identity, gender expression, veteran status, or disability.How We HireAt NIKE, Inc. we promise to provide a premium, inclusive, compelling and authentic candidate experience. Delivering on this promise means we allow you to be at your best — and to do that, you need to understand how the hiring process works. Transparency is key.\n",
      "\n",
      "* This overview explains our hiring process for corporate roles. Note there may be different hiring steps involved for non-corporate roles.Start nowBenefitsWhether it’s transportation or financial health, we continually invest in our employees to help them achieve greatness — inside and outside of work. All who work here should be able to realize their full potential.Employee Assistance ProgramEmployee Stock Purchase Plan (ESPP)HolidaysMedical PlanPaid Time Off (PTO)Product DiscountsSabbaticalsLearn moreGIFT CARDSPROMOTIONSFIND A STORESIGN UP FOR EMAILBECOME A MEMBERNIKE JOURNALSEND US FEEDBACKGET HELPGET HELPOrder StatusShipping and DeliveryReturnsPayment OptionsGift Cards BalanceContact UsABOUT NIKEABOUT NIKENewsCareersInvestorsPurposeSustainabilityUnited States© 2024 Nike, Inc. All Rights ReservedGuidesNike AdaptNike Air MaxNike FlyleatherNike ReactSpace HippieNike AirNike FlyEaseNike Free Nike VaporflyNike Air Force 1 Nike FlyknitNike JoyrideNike ZoomXTerms of SaleTerms of UseNike Privacy PolicyYour Privacy ChoicesCA Supply Chain Act\n"
     ]
    }
   ],
   "source": [
    "from langchain_community.document_loaders import WebBaseLoader\n",
    "loader= WebBaseLoader(\"https://jobs.nike.com/job/R-37192\")\n",
    "\n",
    "page_data= loader.load().pop().page_content\n",
    "print(page_data)"
   ]
  },
  {
   "cell_type": "code",
   "execution_count": 3,
   "id": "c08a97c7-3ea3-477d-98fe-32dfbd8d91a4",
   "metadata": {},
   "outputs": [
    {
     "name": "stdout",
     "output_type": "stream",
     "text": [
      "```\n",
      "{\n",
      "  \"job\": {\n",
      "    \"role\": \"Senior Solutions Data Engineer, GPS\",\n",
      "    \"experience\": \"5+ years of experience working as an application engineer focused on data product engineering\",\n",
      "    \"skills\": [\n",
      "      \"SQL\",\n",
      "      \"Java\",\n",
      "      \"Python\",\n",
      "      \"PySpark\",\n",
      "      \"Analytics technologies such as Snowflake and Databricks\",\n",
      "      \"Cloud technologies such as AWS, Azure, GCP\",\n",
      "      \"DevOps practices\",\n",
      "      \"Agile methodologies\",\n",
      "      \"Project management\"\n",
      "    ],\n",
      "    \"description\": \"We are looking for a Senior Solutions Data Engineer to join the GPS Solutions team to drive and deploy governed technology solutions to empower GPS Capabilities. These solutions will focus on the design, development and management of data products and data sets.\"\n",
      "  }\n",
      "}\n",
      "```\n"
     ]
    }
   ],
   "source": [
    "from langchain_core.prompts import PromptTemplate\n",
    "\n",
    "# Create the prompt template\n",
    "prompt_extract = PromptTemplate.from_template(\n",
    "    \"\"\"\n",
    "    ### SCRAPED TEXT FROM WEBSITE:\n",
    "    {page_data}\n",
    "    ### INSTRUCTION:\n",
    "    The scraped text is from the career's page of a website.\n",
    "    Your job is to extract the job postings and return them in JSON format containing the \n",
    "    following keys: 'job'.'role', 'experience', 'skills', and 'description'.\n",
    "    Only return the valid JSON.\n",
    "    ### VALID JSON (NO PREAMBLE):\n",
    "    \"\"\"\n",
    ")\n",
    "\n",
    "# Chain the template with the language model (llm)\n",
    "chain_extract = prompt_extract | llm\n",
    "\n",
    "# Invoke the chain to extract information\n",
    "res= chain_extract.invoke(input={'page_data':page_data})\n",
    "print(res.content)\n"
   ]
  },
  {
   "cell_type": "code",
   "execution_count": 8,
   "id": "707e4508-64db-43d6-ae4b-40689545d0fe",
   "metadata": {},
   "outputs": [
    {
     "data": {
      "text/plain": [
       "str"
      ]
     },
     "execution_count": 8,
     "metadata": {},
     "output_type": "execute_result"
    }
   ],
   "source": [
    "from langchain_core.prompts import PromptTemplate\n",
    "\n",
    "prompt_extract = PromptTemplate.from_template(\n",
    "        \"\"\"\n",
    "        ### SCRAPED TEXT FROM WEBSITE:\n",
    "        {page_data}\n",
    "        ### INSTRUCTION:\n",
    "        The scraped text is from the career's page of a website.\n",
    "        Your job is to extract the job postings and return them in JSON format containing the \n",
    "        following keys: `role`, `experience`, `skills` and `description`.\n",
    "        Only return the valid JSON.\n",
    "        ### VALID JSON (NO PREAMBLE):    \n",
    "        \"\"\"\n",
    ")\n",
    "\n",
    "chain_extract = prompt_extract | llm \n",
    "res = chain_extract.invoke(input={'page_data':page_data})\n",
    "type(res.content)"
   ]
  },
  {
   "cell_type": "code",
   "execution_count": 9,
   "id": "7412cf15-2e42-4a9b-b419-db0eb042ab90",
   "metadata": {},
   "outputs": [
    {
     "data": {
      "text/plain": [
       "{'role': 'Senior Solutions Data Engineer, GPS',\n",
       " 'experience': '5+ years of experience working as an application engineer focused on data product engineering',\n",
       " 'skills': ['SQL',\n",
       "  'Java',\n",
       "  'Python',\n",
       "  'PySpark',\n",
       "  'Analytics technologies such as Snowflake and Databricks',\n",
       "  'Cloud technologies such as AWS, Azure, GCP',\n",
       "  'DevOps practices',\n",
       "  'Agile methodologies',\n",
       "  'Project management'],\n",
       " 'description': 'We are looking for a Senior Solutions Data Engineer to join the GPS Solutions team to drive and deploy governed technology solutions to empower GPS Capabilities. These solutions will focus on the design, development and management of data products and data sets. You will be responsible for technical engineering delivery of location related data that will drive meaningful and actionable insights tied to optimizing NIKE’s global physical real estate portfolio.'}"
      ]
     },
     "execution_count": 9,
     "metadata": {},
     "output_type": "execute_result"
    }
   ],
   "source": [
    "from langchain_core.output_parsers import JsonOutputParser\n",
    "\n",
    "json_parser = JsonOutputParser()\n",
    "json_res = json_parser.parse(res.content)\n",
    "json_res"
   ]
  },
  {
   "cell_type": "code",
   "execution_count": 10,
   "id": "0d5fcef5-5551-4a61-bb0a-c5958779d8bb",
   "metadata": {},
   "outputs": [
    {
     "data": {
      "text/plain": [
       "dict"
      ]
     },
     "execution_count": 10,
     "metadata": {},
     "output_type": "execute_result"
    }
   ],
   "source": [
    "type(json_res)"
   ]
  },
  {
   "cell_type": "code",
   "execution_count": 5,
   "id": "b8015583-dd25-4bba-860b-d27052c7c10e",
   "metadata": {},
   "outputs": [
    {
     "name": "stdout",
     "output_type": "stream",
     "text": [
      "                               Techstack  \\\n",
      "0                React, Node.js, MongoDB   \n",
      "1               Angular,.NET, SQL Server   \n",
      "2      Vue.js, Ruby on Rails, PostgreSQL   \n",
      "3                  Python, Django, MySQL   \n",
      "4              Java, Spring Boot, Oracle   \n",
      "5             Flutter, Firebase, GraphQL   \n",
      "6                  WordPress, PHP, MySQL   \n",
      "7                    Magento, PHP, MySQL   \n",
      "8         React Native, Node.js, MongoDB   \n",
      "9                  iOS, Swift, Core Data   \n",
      "10       Android, Java, Room Persistence   \n",
      "11             Kotlin, Android, Firebase   \n",
      "12       Android TV, Kotlin, Android NDK   \n",
      "13                     iOS, Swift, ARKit   \n",
      "14        Cross-platform, Xamarin, Azure   \n",
      "15          Backend, Kotlin, Spring Boot   \n",
      "16         Frontend, TypeScript, Angular   \n",
      "17    Full-stack, JavaScript, Express.js   \n",
      "18  Machine Learning, Python, TensorFlow   \n",
      "19               DevOps, Jenkins, Docker   \n",
      "\n",
      "                                                Links  \n",
      "0                 https://example.com/react-portfolio  \n",
      "1               https://example.com/angular-portfolio  \n",
      "2                   https://example.com/vue-portfolio  \n",
      "3                https://example.com/python-portfolio  \n",
      "4                  https://example.com/java-portfolio  \n",
      "5               https://example.com/flutter-portfolio  \n",
      "6             https://example.com/wordpress-portfolio  \n",
      "7               https://example.com/magento-portfolio  \n",
      "8          https://example.com/react-native-portfolio  \n",
      "9                   https://example.com/ios-portfolio  \n",
      "10              https://example.com/android-portfolio  \n",
      "11       https://example.com/kotlin-android-portfolio  \n",
      "12           https://example.com/android-tv-portfolio  \n",
      "13               https://example.com/ios-ar-portfolio  \n",
      "14              https://example.com/xamarin-portfolio  \n",
      "15       https://example.com/kotlin-backend-portfolio  \n",
      "16  https://example.com/typescript-frontend-portfolio  \n",
      "17        https://example.com/full-stack-js-portfolio  \n",
      "18            https://example.com/ml-python-portfolio  \n",
      "19               https://example.com/devops-portfolio  \n"
     ]
    }
   ],
   "source": [
    "import pandas as pd\n",
    "df = pd.read_csv(\"my_portfolio.csv\")\n",
    "print(df)"
   ]
  },
  {
   "cell_type": "code",
   "execution_count": 6,
   "id": "c3761d70-1cb1-401b-a22f-f4da9583b9f3",
   "metadata": {},
   "outputs": [],
   "source": [
    "import uuid\n",
    "import chromadb\n",
    "\n",
    "client = chromadb.PersistentClient('vectorstore')\n",
    "collection = client.get_or_create_collection(name=\"portfolio\")\n",
    "\n",
    "if not collection.count():\n",
    "    for _, row in df.iterrows():\n",
    "        collection.add(documents=row[\"Techstack\"],\n",
    "                       metadatas={\"links\": row[\"Links\"]},\n",
    "                       ids=[str(uuid.uuid4())])"
   ]
  },
  {
   "cell_type": "code",
   "execution_count": 18,
   "id": "791e7b28-0ab1-4298-89c4-6d583995e89e",
   "metadata": {},
   "outputs": [
    {
     "data": {
      "text/plain": [
       "[[{'links': 'https://example.com/react-native-portfolio'},\n",
       "  {'links': 'https://example.com/react-portfolio'}],\n",
       " [{'links': 'https://example.com/ml-python-portfolio'},\n",
       "  {'links': 'https://example.com/python-portfolio'}]]"
      ]
     },
     "execution_count": 18,
     "metadata": {},
     "output_type": "execute_result"
    }
   ],
   "source": [
    "links = collection.query(query_texts=[\"Expertise in React Native\",\"Experience in Python\"], n_results=2).get('metadatas', [])\n",
    "links"
   ]
  },
  {
   "cell_type": "code",
   "execution_count": 21,
   "id": "be97150d-4eb2-476d-b482-835a04b2c2ca",
   "metadata": {},
   "outputs": [
    {
     "data": {
      "text/plain": [
       "['SQL',\n",
       " 'Java',\n",
       " 'Python',\n",
       " 'PySpark',\n",
       " 'Analytics technologies such as Snowflake and Databricks',\n",
       " 'Cloud technologies such as AWS, Azure, GCP',\n",
       " 'DevOps practices',\n",
       " 'Agile methodologies',\n",
       " 'Project management']"
      ]
     },
     "execution_count": 21,
     "metadata": {},
     "output_type": "execute_result"
    }
   ],
   "source": [
    "job= json_res\n",
    "job['skills']"
   ]
  },
  {
   "cell_type": "code",
   "execution_count": 25,
   "id": "447ce7b5-f151-4e97-9624-bc3fbb515240",
   "metadata": {},
   "outputs": [
    {
     "name": "stdout",
     "output_type": "stream",
     "text": [
      "Subject: Expert Data Engineering Solutions for NIKE's GPS Capabilities\n",
      "\n",
      "Dear Hiring Manager,\n",
      "\n",
      "I came across the Senior Solutions Data Engineer role at NIKE and was impressed by the company's commitment to driving innovation through data-driven solutions. As a Business Development Executive at Celystik Labs, I'd like to introduce our team of expert data engineers who can help fulfill your requirements.\n",
      "\n",
      "Our data engineers possess 5+ years of experience in application engineering, focusing on data product engineering, and have expertise in the skills you've mentioned, including SQL, Java, Python, PySpark, Analytics technologies (Snowflake and Databricks), Cloud technologies (AWS, Azure, GCP), DevOps practices, Agile methodologies, and Project management.\n",
      "\n",
      "At Celystik Labs, we've developed cutting-edge solutions that can complement your GPS Capabilities. Our Intelligent Liquidity Provisioning Agents can be adapted to optimize data product engineering, ensuring seamless data management and analysis. Additionally, our TokenGPT AI-driven assistant can be leveraged to drive meaningful and actionable insights, tied to optimizing NIKE's global physical real estate portfolio.\n",
      "\n",
      "Our team can help design, develop, and manage data products and data sets, ensuring governed technology solutions that empower GPS Capabilities. We're confident that our expertise in data engineering can help drive innovation and growth at NIKE.\n",
      "\n",
      "I'd love to schedule a call to discuss how Celystik Labs can support your team's efforts. Please let me know if you're available for a call this week or next.\n",
      "\n",
      "Best regards,\n",
      "\n",
      "Faisal Riaz\n",
      "Business Development Executive\n",
      "Celystik Labs\n"
     ]
    }
   ],
   "source": [
    "prompt_email = PromptTemplate.from_template(\n",
    "\"\"\"\n",
    "## JOB DESCRIPTION:\n",
    "{job_description}\n",
    "\n",
    "## INSTRUCTION:\n",
    "You are Faisal Riaz, a business development executive at Celystik Labs. Celystik Labs is a research and development studio specializing in Blockchain, AI,Data Engineering and decentralized finance. Our core innovations include Intelligent Liquidity Provisioning Agents and TokenGPT, an AI-driven assistant for blockchain research and development. We are dedicated to optimizing liquidity strategies in DeFi platforms and assisting with token engineering using cutting-edge AI and Reinforcement Learning methodologies.\n",
    "\n",
    "Your job is to write a cold email to the client regarding the job mentioned above, describing how Celystik Labs can fulfill their needs.As celystik have data engineers with expertise in this field as mentioned in job description.\n",
    "\n",
    "*🟡 Add the most relevant ones from the following links to showcase Celystik's solutions. \n",
    "Remember you are Faisal Riaz, BDE at Celystik Labs. \n",
    "Do not provide a preamble.*\n",
    "\n",
    "#### EMAIL (NO PREAMBLE):\n",
    "\"\"\"\n",
    ")\n",
    "\n",
    "chain_email = prompt_email | llm\n",
    "res = chain_email.invoke({\"job_description\": str(job), \"link_list\": links})\n",
    "print(res.content)\n"
   ]
  },
  {
   "cell_type": "code",
   "execution_count": null,
   "id": "8ca8dcd4-d16e-44ab-a307-58bde012f1ff",
   "metadata": {},
   "outputs": [],
   "source": []
  }
 ],
 "metadata": {
  "kernelspec": {
   "display_name": "Python 3 (ipykernel)",
   "language": "python",
   "name": "python3"
  },
  "language_info": {
   "codemirror_mode": {
    "name": "ipython",
    "version": 3
   },
   "file_extension": ".py",
   "mimetype": "text/x-python",
   "name": "python",
   "nbconvert_exporter": "python",
   "pygments_lexer": "ipython3",
   "version": "3.11.7"
  }
 },
 "nbformat": 4,
 "nbformat_minor": 5
}
