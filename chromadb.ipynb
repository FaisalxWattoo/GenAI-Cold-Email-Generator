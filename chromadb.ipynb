{
 "cells": [
  {
   "cell_type": "code",
   "execution_count": 4,
   "id": "c937e777-622c-4b68-9b25-ec98fbabf9ac",
   "metadata": {},
   "outputs": [],
   "source": [
    "import chromadb\n",
    "\n",
    "client = chromadb.Client()\n",
    "collection= client.create_collection(name=\"my_collection\")"
   ]
  },
  {
   "cell_type": "code",
   "execution_count": 5,
   "id": "ca76d4d8-1ffc-4ef8-9c45-ebbfee2073b7",
   "metadata": {},
   "outputs": [
    {
     "name": "stderr",
     "output_type": "stream",
     "text": [
      "C:\\Users\\faisa\\.cache\\chroma\\onnx_models\\all-MiniLM-L6-v2\\onnx.tar.gz: 100%|██████| 79.3M/79.3M [03:20<00:00, 414kiB/s]\n"
     ]
    }
   ],
   "source": [
    "collection.add(\n",
    "    documents=[\n",
    "        \"this document is about karachi\",\n",
    "        \"this document is about new york\"\n",
    "    ],\n",
    "    ids=['id1','id2'],\n",
    "    metadatas=[\n",
    "        {\"url\":\"https://en.wikipedia.org/wiki/Karachi\"},\n",
    "        {\"url\":\"https://en.wikipedia.org/wiki/New_york\"}\n",
    "    ]\n",
    ")"
   ]
  },
  {
   "cell_type": "code",
   "execution_count": 6,
   "id": "37c3a435-cf27-41e1-8213-955fe064623f",
   "metadata": {},
   "outputs": [
    {
     "data": {
      "text/plain": [
       "{'ids': ['id1', 'id2'],\n",
       " 'embeddings': None,\n",
       " 'metadatas': [{'url': 'https://en.wikipedia.org/wiki/Karachi'},\n",
       "  {'url': 'https://en.wikipedia.org/wiki/New_york'}],\n",
       " 'documents': ['this document is about karachi',\n",
       "  'this document is about new york']}"
      ]
     },
     "execution_count": 6,
     "metadata": {},
     "output_type": "execute_result"
    }
   ],
   "source": [
    "all_docs= collection.get()\n",
    "all_docs"
   ]
  },
  {
   "cell_type": "code",
   "execution_count": 7,
   "id": "ca9c48b7-66de-4a48-8c0b-c9dec26ad37b",
   "metadata": {},
   "outputs": [
    {
     "data": {
      "text/plain": [
       "{'ids': [['id1', 'id2']],\n",
       " 'distances': [[1.3659342527389526, 1.902073860168457]],\n",
       " 'metadatas': [[{'url': 'https://en.wikipedia.org/wiki/Karachi'},\n",
       "   {'url': 'https://en.wikipedia.org/wiki/New_york'}]],\n",
       " 'embeddings': None,\n",
       " 'documents': [['this document is about karachi',\n",
       "   'this document is about new york']]}"
      ]
     },
     "execution_count": 7,
     "metadata": {},
     "output_type": "execute_result"
    }
   ],
   "source": [
    "results= collection.query(\n",
    "    query_texts=['Query is about Mazar-e-Quaid-e-Azam'],\n",
    "    n_results=2\n",
    ")\n",
    "results"
   ]
  },
  {
   "cell_type": "code",
   "execution_count": 8,
   "id": "8335508c-f705-4466-988f-54f6492475d8",
   "metadata": {},
   "outputs": [
    {
     "data": {
      "text/plain": [
       "{'ids': [['id2', 'id1']],\n",
       " 'distances': [[1.5431182384490967, 1.7592177391052246]],\n",
       " 'metadatas': [[{'url': 'https://en.wikipedia.org/wiki/New_york'},\n",
       "   {'url': 'https://en.wikipedia.org/wiki/Karachi'}]],\n",
       " 'embeddings': None,\n",
       " 'documents': [['this document is about new york',\n",
       "   'this document is about karachi']]}"
      ]
     },
     "execution_count": 8,
     "metadata": {},
     "output_type": "execute_result"
    }
   ],
   "source": [
    "results= collection.query(\n",
    "    query_texts=['Query is aboutPark Avenue'],\n",
    "    n_results=2\n",
    ")\n",
    "results"
   ]
  },
  {
   "cell_type": "code",
   "execution_count": null,
   "id": "edf19a38-a00a-4f0d-ae85-2dddfbac2919",
   "metadata": {},
   "outputs": [],
   "source": []
  }
 ],
 "metadata": {
  "kernelspec": {
   "display_name": "Python 3 (ipykernel)",
   "language": "python",
   "name": "python3"
  },
  "language_info": {
   "codemirror_mode": {
    "name": "ipython",
    "version": 3
   },
   "file_extension": ".py",
   "mimetype": "text/x-python",
   "name": "python",
   "nbconvert_exporter": "python",
   "pygments_lexer": "ipython3",
   "version": "3.11.7"
  }
 },
 "nbformat": 4,
 "nbformat_minor": 5
}
